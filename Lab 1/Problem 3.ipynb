{
 "cells": [
  {
   "cell_type": "markdown",
   "metadata": {
    "colab_type": "text",
    "id": "ssDZnzo3G784"
   },
   "source": [
    "# Lab 1\n",
    "Hara Kumar (19940905-3676)\n",
    "Yeongwoo Kim (19890909-7753)"
   ]
  },
  {
   "cell_type": "markdown",
   "metadata": {
    "colab_type": "text",
    "id": "6bGy4N8tUaIO"
   },
   "source": [
    "## Problem 3: Bank Robbing (Reloaded)\n",
    "You are a bank robber trying to heist the bank of an unknown town."
   ]
  },
  {
   "cell_type": "markdown",
   "metadata": {
    "colab_type": "text",
    "id": "G5s6Z2vEYmRW"
   },
   "source": [
    "\n",
    "## MDP formulation\n",
    "\n",
    "We propose the following MDP formulation: \n",
    "\n",
    "#### State space $\\mathcal{S}$\n",
    "We model the state space as the set of all possible positions of the player and the police in the maze. \n",
    "\n",
    "$$\\mathcal{S} = \\big\\lbrace (eaten) \\cup (i_r,j_r,i_p,j_p):\\textrm{such that } 0<=i_r \\textrm{ and } i_p<=3,\\ 0<=j_r \\textrm{ and } j_r<=3,\\ \\big\\rbrace.$$\n",
    "> **Note:** $\\mathcal i_r \\textrm{ and } j_r$ represents the position of the robber. $\\mathcal i_p \\textrm{ and } j_p$ represents the position of the police. The top left corner is position is $(0,0)$ and the bottom right is $(3,3)$.\n",
    "\n",
    "#### Action space $\\mathcal{A}$\n",
    "The robber is allowed to choose either move `left`, `right`, `down`, `up` or `stay`. The actions are possible if the action will result in a state that could be found in the state space. \n",
    "Formally, the action space is\n",
    "\n",
    "$$\\mathcal{A} = \\lbrace \\textrm{up if }(i_r,(j_r + 1)) \\in \\mathcal{S}, \\\\ \\textrm{ down if } (i_r,(j_r - 1)) \\in \\mathcal{S}, \\\\ \\textrm{ left if } ((i_r - 1),j_r) \\in \\mathcal{S}, \\\\ \\textrm{ right if } ((i_r + 1),j_r) \\in \\mathcal{S}, \\\\ \\textrm{ stay} \\rbrace.$$\n",
    "\n",
    "#### Policies $\\mathcal{\\pi}$\n",
    "- Q learning: The behavior policies of the robber and police are uniform at\n",
    "random. Depending on the position of the robber or police, it exclude the impossible actions according to the action space. Within the remaining actions, the robber or police randomly select an action.\\\n",
    "$$ a_{r} \\textrm{ and } a_{p} = uniform(\\mathcal{A_{s}})$$\n",
    "\n",
    "- SARSA: The $\\epsilon$-greedy policy is applied to the robber. On the other hands, the police behave according to the uniform policy.\\\n",
    "$$ a_{r} =  \\begin{cases} uniform(\\mathcal{A_{s}}) \\textrm{  w.p }  \\epsilon \\\\\n",
    " argmax_{b \\in \\mathcal{A_{s}}}({Q^{(t)}}) \\textrm{  w.p   } 1 - \\epsilon \n",
    "            \\end{cases} $$\n",
    "$$ a_{p} = uniform(\\mathcal{A_{s}})$$\n",
    "\n",
    "> **Note:** $\\mathcal a_r$ represents the action of the robber. $\\mathcal a_p$ represents the action of the police.\n",
    "\n",
    "#### Rewards $\\mathcal{R}$\n",
    "The objective of the player is to collect money from a bank while avoiding the police. This means the robber will be at the position of the bank, (1,1), and gain 1 SEK every turn. However, when the robber and police are placed on the same place, the robber will lose 10 SEK. \\\n",
    "$$ r =  \\begin{cases} 1 SEK \\textrm{ when } (i_{r},j_{r}) = (1,1) \\\\\n",
    "- 10 SEK \\textrm{ when } (i_{r},j_{r}) = (i_{p},j_{p})\\\\\n",
    "0 SEK \\textrm{ Otherwise} \\end{cases} $$\n",
    "\n",
    "### Implementation\n",
    "We followed the algorithm on the slides. The biggest difference between two algorithm is that Q-learning uses behavior policy $\\pi_{b}$ (Off-policy learning), but SARSA uses a $\\epsilon$-greedy policy with the policy which controls the robber currently (On-policy learning). Also, Q-learning performs maximum operation on $Q^{(t)}(s_{(t+1)},a_{(t+1)})$, but the SARSA does not take the maximum operator. Therefore, SARSA coherently leverages the $\\epsilon$-greedy policy.\n",
    "\n",
    "- Q-learning : page 33 of Part 5\n",
    "- SARSA :\"page 41 of Part 5\n"
   ]
  },
  {
   "cell_type": "code",
   "execution_count": 0,
   "metadata": {
    "colab": {},
    "colab_type": "code",
    "id": "iu3aXgmqG789"
   },
   "outputs": [],
   "source": [
    "import numpy as np\n",
    "import matplotlib.pyplot as plt"
   ]
  },
  {
   "cell_type": "code",
   "execution_count": 0,
   "metadata": {
    "colab": {},
    "colab_type": "code",
    "id": "p2Uh0b2vG79N"
   },
   "outputs": [],
   "source": [
    "import numpy as np\n",
    "import random\n",
    "\n",
    "class Bank_Rob:\n",
    "    def __init__(self, eps, discount, maze, init_pos, iteration):\n",
    "        self.action = ['still', 'left', 'right', 'up', 'down']\n",
    "        self.eps = eps\n",
    "        self.maze = maze\n",
    "        self.size = maze.shape\n",
    "        self.iteration = iteration\n",
    "        self.init_pos = init_pos.copy()\n",
    "        self.current_pos = init_pos\n",
    "        self.state = self.build_state()\n",
    "        self.action_size = len(self.action)\n",
    "        self.discount = discount\n",
    "        self.Q_table = self.build_Q_table()\n",
    "        self.cnt_updates = np.zeros([len(self.state), len(self.action)])\n",
    "        self.stay_still = []\n",
    "        self.go_right = []\n",
    "        self.go_down = []\n",
    "        \n",
    "        self.SARSA_stay = []\n",
    "        self.SARSA_down = []\n",
    "        self.SARSA_right = []\n",
    "\n",
    "\n",
    "    def check_available_actions(self, position):\n",
    "        actions = self.action.copy()\n",
    "        removed_idx = []\n",
    "        if position[0] == 0:\n",
    "            actions.remove('left')\n",
    "            removed_idx.append(1)\n",
    "        elif position[0] == 3:\n",
    "            actions.remove('right')\n",
    "            removed_idx.append(2)\n",
    "        if position[1] == 0:\n",
    "            actions.remove('up')\n",
    "            removed_idx.append(3)\n",
    "        elif position[1] == 3:\n",
    "            actions.remove('down')\n",
    "            removed_idx.append(4)\n",
    "        return actions, removed_idx\n",
    "        \n",
    "    def build_state(self):\n",
    "        state_list = dict()\n",
    "        Q_table = dict()\n",
    "        cnt = 0\n",
    "        for i in range(self.size[0]):\n",
    "            for j in range(self.size[1]):\n",
    "                for k in range(self.size[0]):\n",
    "                    for l in range(self.size[1]):\n",
    "                        state_list[cnt] = [i,j,k,l]\n",
    "                        cnt += 1\n",
    "        return state_list \n",
    "    \n",
    "    def build_Q_table(self):\n",
    "        Q_table = np.zeros([len(self.state), len(self.action)])\n",
    "        for key in self.state:\n",
    "            actions, removed_idx = self.check_available_actions(self.state[key][0:2])\n",
    "            for idx in removed_idx:\n",
    "                Q_table[key, idx] = -np.inf              \n",
    "        return Q_table\n",
    "\n",
    "    def behavior_policy(self, current_postion):\n",
    "        available_actions, removed_idx = self.check_available_actions(current_postion)\n",
    "        selected_action = random.choice(available_actions)         \n",
    "        return selected_action\n",
    "    \n",
    "    def e_greedy_policy(self, current_postion):\n",
    "        available_actions, removed_idx = self.check_available_actions(current_postion)\n",
    "        criterion = random.uniform(0, 1.0)\n",
    "        if criterion < 1-self.eps:\n",
    "            Q_table_idx = list(self.state.keys())[list(self.state.values()).index(self.current_pos)]\n",
    "            selected_action = self.action[np.argmax(self.Q_table[Q_table_idx,:])]\n",
    "        else:\n",
    "            selected_action = random.choice(available_actions)         \n",
    "        return selected_action\n",
    "    \n",
    "    \n",
    "    def random_policy(self, current_postion):\n",
    "        available_actions,_ = self.check_available_actions(current_postion)\n",
    "        selected_action = random.choice(available_actions)     \n",
    "        return selected_action\n",
    "\n",
    "    def move(self, selected_action, current_position):\n",
    "        if selected_action == 'left':\n",
    "            current_position[0] -= 1\n",
    "        elif selected_action == 'right':\n",
    "            current_position[0] += 1\n",
    "        elif selected_action == 'up':\n",
    "            current_position[1] -= 1\n",
    "        elif selected_action  == 'down':\n",
    "            current_position[1] += 1\n",
    "        else:\n",
    "            pass\n",
    "        return current_position\n",
    "        \n",
    "    def check_reward(self):\n",
    "        pos_robber = self.current_pos[0:2] \n",
    "        pos_police = self.current_pos[2:4]\n",
    "        if pos_robber == pos_police:\n",
    "            rwd = -10\n",
    "        elif pos_robber == [1,1]:\n",
    "            rwd = 1\n",
    "        else :\n",
    "            rwd = 0\n",
    "        return rwd\n",
    "    \n",
    "    def Q_learning(self):\n",
    "        #Todo: Q learning study and code it !!!!!!!!\n",
    "        reward = 0\n",
    "        still_idx = self.action.index('still')\n",
    "        down_idx = self.action.index('down')\n",
    "        right_idx = self.action.index('right')\n",
    "        init_pos_idx = list(self.state.keys())[list(self.state.values()).index(self.init_pos)]\n",
    "        for i in range(self.iteration):\n",
    "            robber_action = self.behavior_policy(self.current_pos)\n",
    "            police_action = self.random_policy(self.current_pos[2:4])\n",
    "            old_state = self.current_pos.copy()\n",
    "            self.current_pos[0:2] = self.move(robber_action, self.current_pos[0:2])\n",
    "            self.current_pos[2:4] = self.move(police_action, self.current_pos[2:4])\n",
    "            reward = self.check_reward()\n",
    "            old_state_idx = list(self.state.keys())[list(self.state.values()).index(old_state)]\n",
    "            new_state_idx = list(self.state.keys())[list(self.state.values()).index(self.current_pos)]\n",
    "            robber_action_idx = self.action.index(robber_action)\n",
    "            self.cnt_updates[old_state_idx, robber_action_idx] += 1\n",
    "            alpha = 1/(self.cnt_updates[old_state_idx, robber_action_idx])**(2/3) \n",
    "            self.Q_table[old_state_idx, robber_action_idx] += alpha*(reward + self.discount*np.max(self.Q_table[new_state_idx,:])- self.Q_table[old_state_idx, robber_action_idx]) \n",
    "            self.stay_still.append(self.Q_table[init_pos_idx, still_idx])\n",
    "            self.go_down.append(self.Q_table[init_pos_idx, down_idx])\n",
    "            self.go_right.append(self.Q_table[init_pos_idx, right_idx])\n",
    "                \n",
    "            ten_percent = self.iteration/10\n",
    "\n",
    "            if i%(ten_percent) ==0:\n",
    "                print(\"Progress: \"+str(i*100/self.iteration)+\"%\")\n",
    "\n",
    "    def SARSA(self):\n",
    "        #Todo: Q learning study and code it !!!!!!!!\n",
    "        reward = 0\n",
    "        still_idx = self.action.index('still')\n",
    "        down_idx = self.action.index('down')\n",
    "        right_idx = self.action.index('right')\n",
    "        init_pos_idx = list(self.state.keys())[list(self.state.values()).index(self.init_pos)]\n",
    "        for i in range(self.iteration):\n",
    "            robber_action = self.e_greedy_policy(self.current_pos[0:2])\n",
    "            police_action = self.random_policy(self.current_pos[2:4])\n",
    "            old_state = self.current_pos.copy()\n",
    "            self.current_pos[0:2] = self.move(robber_action, self.current_pos[0:2])\n",
    "            self.current_pos[2:4] = self.move(police_action, self.current_pos[2:4])\n",
    "            reward = self.check_reward()\n",
    "            old_state_idx = list(self.state.keys())[list(self.state.values()).index(old_state)]\n",
    "            new_state_idx = list(self.state.keys())[list(self.state.values()).index(self.current_pos)]\n",
    "            robber_action_idx = self.action.index(robber_action)\n",
    "            self.cnt_updates[old_state_idx, robber_action_idx] += 1\n",
    "            alpha = 1/(self.cnt_updates[old_state_idx, robber_action_idx])**(2/3) \n",
    "            robber_future_action_idx = self.action.index(self.e_greedy_policy(self.current_pos[0:2]))\n",
    "            self.Q_table[old_state_idx, robber_action_idx] += alpha*(reward + self.discount*self.Q_table[new_state_idx,robber_future_action_idx]- self.Q_table[old_state_idx, robber_action_idx]) \n",
    "            self.SARSA_stay.append(self.Q_table[init_pos_idx, still_idx])\n",
    "            self.SARSA_down.append(self.Q_table[init_pos_idx, down_idx])\n",
    "            self.SARSA_right.append(self.Q_table[init_pos_idx, right_idx])      \n",
    "\n",
    "            ten_percent = self.iteration/10\n",
    "\n",
    "            if i%(ten_percent) ==0:\n",
    "                print(\"Progress: \"+str(i*100/self.iteration)+\"%\")  \n",
    "                \n"
   ]
  },
  {
   "cell_type": "code",
   "execution_count": 0,
   "metadata": {
    "colab": {},
    "colab_type": "code",
    "id": "PkummwamG79U"
   },
   "outputs": [],
   "source": [
    "initial_pos = [0,0,3,3]\n",
    "maze =  np.array([[0,0,0,0],\n",
    "                 [0,1,0,0],\n",
    "                 [0,0,0,0],\n",
    "                 [0,0,0,0]])\n",
    "rob_bank = Bank_Rob(0.1, 0.8, maze, initial_pos, 1000000)"
   ]
  },
  {
   "cell_type": "markdown",
   "metadata": {
    "colab_type": "text",
    "id": "7V5vIPWI_1Qp"
   },
   "source": [
    "\n",
    "## Result\n",
    "The both algorithms show convergences.\n",
    "\n",
    "- Q-learning: This algorithm takes the maximum of $Q^{(t)}(s_{(t+1)},a_{(t+1)})$. This means the robber will take the best choice after the current random action. Therefore, the algorithm converges to the optimum fast. In case of the `stay`, it shows lower Q value than the other actions, since the route to the bank should include `right` or `down`. Accordingly, the `right` and `down` show the similar values. (Because of the short of RAM, we plot it until 1e6)\n",
    "\n",
    "- SARSA: This algorithm continues to exploration by the chance of $\\epsilon$. Therefore, this algorithm converges slower than the Q-learning. As the $\\epsilon$, it also shows the convergence takes more time and might converge to the different value than the optimum value.\n",
    " \n"
   ]
  },
  {
   "cell_type": "code",
   "execution_count": 15,
   "metadata": {
    "colab": {
     "base_uri": "https://localhost:8080/",
     "height": 204
    },
    "colab_type": "code",
    "executionInfo": {
     "elapsed": 28288,
     "status": "ok",
     "timestamp": 1574679156937,
     "user": {
      "displayName": "Y K",
      "photoUrl": "https://lh3.googleusercontent.com/a-/AAuE7mAH4H1X77wXh28G4ED2mSkOyxUf5WvVGznEyTG__w=s64",
      "userId": "13784109999026074619"
     },
     "user_tz": -60
    },
    "id": "g8iqWXvvG79m",
    "outputId": "1b95bdf2-dc1b-4e68-b825-62b1f78b83eb"
   },
   "outputs": [
    {
     "name": "stdout",
     "output_type": "stream",
     "text": [
      "Progress: 0.0%\n",
      "Progress: 10.0%\n",
      "Progress: 20.0%\n",
      "Progress: 30.0%\n",
      "Progress: 40.0%\n",
      "Progress: 50.0%\n",
      "Progress: 60.0%\n",
      "Progress: 70.0%\n",
      "Progress: 80.0%\n",
      "Progress: 90.0%\n"
     ]
    }
   ],
   "source": [
    "rob_bank.Q_learning()"
   ]
  },
  {
   "cell_type": "code",
   "execution_count": 16,
   "metadata": {
    "colab": {
     "base_uri": "https://localhost:8080/",
     "height": 283
    },
    "colab_type": "code",
    "executionInfo": {
     "elapsed": 28335,
     "status": "ok",
     "timestamp": 1574679157550,
     "user": {
      "displayName": "Y K",
      "photoUrl": "https://lh3.googleusercontent.com/a-/AAuE7mAH4H1X77wXh28G4ED2mSkOyxUf5WvVGznEyTG__w=s64",
      "userId": "13784109999026074619"
     },
     "user_tz": -60
    },
    "id": "zmTeoNoPG79x",
    "outputId": "0aaaa1cf-ba70-439f-930a-0825a5df396b"
   },
   "outputs": [
    {
     "data": {
      "image/png": "[encoded data removed]",
      "text/plain": [
       "<Figure size 1152x288 with 3 Axes>"
      ]
     },
     "metadata": {
      "tags": []
     },
     "output_type": "display_data"
    }
   ],
   "source": [
    "plt.figure(figsize=(16,4))\n",
    "plt.subplot(1,3,1)\n",
    "plt.plot(rob_bank.stay_still,'r')\n",
    "plt.ylim(0, 4)\n",
    "plt.ylabel('reward of stay still')\n",
    "plt.xlabel('time')\n",
    "\n",
    "plt.subplot(1,3,2)\n",
    "plt.plot(rob_bank.go_right,'g')\n",
    "plt.ylim(0, 4)\n",
    "plt.ylabel('rewards of right')\n",
    "plt.xlabel('time')\n",
    "\n",
    "plt.subplot(1,3,3)\n",
    "plt.plot(rob_bank.go_down,'b')\n",
    "plt.ylim(0, 4)\n",
    "plt.ylabel('rewards of down')\n",
    "plt.xlabel('time')\n",
    "\n",
    "plt.show()"
   ]
  },
  {
   "cell_type": "code",
   "execution_count": 6,
   "metadata": {
    "colab": {
     "base_uri": "https://localhost:8080/",
     "height": 766
    },
    "colab_type": "code",
    "executionInfo": {
     "elapsed": 1632217,
     "status": "ok",
     "timestamp": 1574677707565,
     "user": {
      "displayName": "Y K",
      "photoUrl": "https://lh3.googleusercontent.com/a-/AAuE7mAH4H1X77wXh28G4ED2mSkOyxUf5WvVGznEyTG__w=s64",
      "userId": "13784109999026074619"
     },
     "user_tz": -60
    },
    "id": "3CGoTfWvG797",
    "outputId": "121abc72-1552-4981-a419-6dfa79b030b5"
   },
   "outputs": [
    {
     "name": "stdout",
     "output_type": "stream",
     "text": [
      "Progress: 0.0%\n",
      "Progress: 10.0%\n",
      "Progress: 20.0%\n",
      "Progress: 30.0%\n",
      "Progress: 40.0%\n",
      "Progress: 50.0%\n",
      "Progress: 60.0%\n",
      "Progress: 70.0%\n",
      "Progress: 80.0%\n",
      "Progress: 90.0%\n",
      "Progress: 0.0%\n",
      "Progress: 10.0%\n",
      "Progress: 20.0%\n",
      "Progress: 30.0%\n",
      "Progress: 40.0%\n",
      "Progress: 50.0%\n",
      "Progress: 60.0%\n",
      "Progress: 70.0%\n",
      "Progress: 80.0%\n",
      "Progress: 90.0%\n",
      "Progress: 0.0%\n",
      "Progress: 10.0%\n",
      "Progress: 20.0%\n",
      "Progress: 30.0%\n",
      "Progress: 40.0%\n",
      "Progress: 50.0%\n",
      "Progress: 60.0%\n",
      "Progress: 70.0%\n",
      "Progress: 80.0%\n",
      "Progress: 90.0%\n",
      "Progress: 0.0%\n",
      "Progress: 10.0%\n",
      "Progress: 20.0%\n",
      "Progress: 30.0%\n",
      "Progress: 40.0%\n",
      "Progress: 50.0%\n",
      "Progress: 60.0%\n",
      "Progress: 70.0%\n",
      "Progress: 80.0%\n",
      "Progress: 90.0%\n"
     ]
    }
   ],
   "source": [
    "lst = [0.1, 0.2, 0.3, 0.4]\n",
    "SARSA_diff_eps=dict()\n",
    "for e in lst:\n",
    "    rob_bank = Bank_Rob(e, 0.8, maze, initial_pos, 10000000)\n",
    "    rob_bank.SARSA()\n",
    "    SARSA_diff_eps[e] = {'stay': rob_bank.SARSA_stay, 'right': rob_bank.SARSA_right, 'down': rob_bank.SARSA_down}"
   ]
  },
  {
   "cell_type": "code",
   "execution_count": 8,
   "metadata": {
    "colab": {
     "base_uri": "https://localhost:8080/",
     "height": 279
    },
    "colab_type": "code",
    "executionInfo": {
     "elapsed": 1664908,
     "status": "ok",
     "timestamp": 1574677740861,
     "user": {
      "displayName": "Y K",
      "photoUrl": "https://lh3.googleusercontent.com/a-/AAuE7mAH4H1X77wXh28G4ED2mSkOyxUf5WvVGznEyTG__w=s64",
      "userId": "13784109999026074619"
     },
     "user_tz": -60
    },
    "id": "2kOAd4kLG7-D",
    "outputId": "277388a4-6157-4be0-fe3e-e64c7d5ad4da"
   },
   "outputs": [
    {
     "data": {
      "image/png": "[encoded data removed]",
      "text/plain": [
       "<Figure size 1440x288 with 4 Axes>"
      ]
     },
     "metadata": {
      "tags": []
     },
     "output_type": "display_data"
    }
   ],
   "source": [
    "plt.figure(figsize=(20,4))\n",
    "plt.subplot(1,4,1)\n",
    "plt.plot(SARSA_diff_eps[0.1]['stay'],'r')\n",
    "plt.plot(SARSA_diff_eps[0.1]['right'],'g')\n",
    "plt.plot(SARSA_diff_eps[0.1]['down'],'b')\n",
    "plt.xlabel('time')\n",
    "\n",
    "plt.subplot(1,4,2)\n",
    "plt.plot(SARSA_diff_eps[0.2]['stay'],'r')\n",
    "plt.plot(SARSA_diff_eps[0.2]['right'],'g')\n",
    "plt.plot(SARSA_diff_eps[0.2]['down'],'b')\n",
    "plt.xlabel('time')\n",
    "\n",
    "plt.subplot(1,4,3)\n",
    "plt.plot(SARSA_diff_eps[0.3]['stay'],'r')\n",
    "plt.plot(SARSA_diff_eps[0.3]['right'],'g')\n",
    "plt.plot(SARSA_diff_eps[0.3]['down'],'b')\n",
    "plt.xlabel('time')\n",
    "\n",
    "plt.subplot(1,4,4)\n",
    "plt.plot(SARSA_diff_eps[0.4]['stay'],'r')\n",
    "plt.plot(SARSA_diff_eps[0.4]['right'],'g')\n",
    "plt.plot(SARSA_diff_eps[0.4]['down'],'b')\n",
    "plt.xlabel('time')\n",
    "plt.show()"
   ]
  }
 ],
 "metadata": {
  "@webio": {
   "lastCommId": null,
   "lastKernelId": null
  },
  "accelerator": "GPU",
  "colab": {
   "collapsed_sections": [],
   "machine_shape": "hm",
   "name": "Problem 3.ipynb",
   "provenance": [],
   "toc_visible": true
  },
  "kernelspec": {
   "display_name": "Python 3",
   "language": "python",
   "name": "python3"
  },
  "language_info": {
   "codemirror_mode": {
    "name": "ipython",
    "version": 3
   },
   "file_extension": ".py",
   "mimetype": "text/x-python",
   "name": "python",
   "nbconvert_exporter": "python",
   "pygments_lexer": "ipython3",
   "version": "3.7.4"
  }
 },
 "nbformat": 4,
 "nbformat_minor": 1
}
