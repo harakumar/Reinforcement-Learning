{
 "cells": [
  {
   "cell_type": "markdown",
   "metadata": {},
   "source": [
    "# Lab 1\n",
    "Hara Kumar (19940905-3676)\n",
    "Yeongwoo Kim (19890909-7753)"
   ]
  },
  {
   "cell_type": "code",
   "execution_count": 390,
   "metadata": {},
   "outputs": [],
   "source": [
    "import numpy as np\n",
    "import matplotlib.pyplot as plt"
   ]
  },
  {
   "cell_type": "code",
   "execution_count": 400,
   "metadata": {},
   "outputs": [],
   "source": [
    "import numpy as np\n",
    "import random\n",
    "\n",
    "class Bank_Rob:\n",
    "    def __init__(self, eps, discount, maze, init_pos):\n",
    "        self.action = ['still', 'left', 'right', 'up', 'down']\n",
    "        self.eps = eps\n",
    "        self.maze = maze\n",
    "        self.size = maze.shape\n",
    "        self.init_pos = init_pos.copy()\n",
    "        self.current_pos = init_pos\n",
    "        self.state = self.build_state()\n",
    "        self.action_size = len(self.action)\n",
    "        self.discount = discount\n",
    "        self.Q_table = self.build_Q_table()\n",
    "        self.cnt_updates = np.zeros([len(self.state), len(self.action)])\n",
    "        self.stay_still = []\n",
    "        self.go_right = []\n",
    "        self.go_down = []\n",
    "\n",
    "    def check_available_actions(self, position):\n",
    "        actions = self.action.copy()\n",
    "        removed_idx = []\n",
    "        if position[0] == 0:\n",
    "            actions.remove('left')\n",
    "            removed_idx.append(1)\n",
    "        elif position[0] == 3:\n",
    "            actions.remove('right')\n",
    "            removed_idx.append(2)\n",
    "        if position[1] == 0:\n",
    "            actions.remove('up')\n",
    "            removed_idx.append(3)\n",
    "        elif position[1] == 3:\n",
    "            actions.remove('down')\n",
    "            removed_idx.append(4)\n",
    "        return actions, removed_idx\n",
    "        \n",
    "    def build_state(self):\n",
    "        state_list = dict()\n",
    "        Q_table = dict()\n",
    "        cnt = 0\n",
    "        for i in range(self.size[0]):\n",
    "            for j in range(self.size[1]):\n",
    "                for k in range(self.size[0]):\n",
    "                    for l in range(self.size[1]):\n",
    "                        state_list[cnt] = [i,j,k,l]\n",
    "                        cnt += 1\n",
    "        return state_list \n",
    "    \n",
    "    def build_Q_table(self):\n",
    "        Q_table = np.zeros([len(self.state), len(self.action)])\n",
    "        for key in self.state:\n",
    "            actions, removed_idx = self.check_available_actions(self.state[key][0:2])\n",
    "            for idx in removed_idx:\n",
    "                Q_table[key, idx] = 0#-np.inf              \n",
    "        return Q_table\n",
    "\n",
    "    def behavior_policy(self, current_postion):\n",
    "        available_actions, removed_idx = self.check_available_actions(current_postion)\n",
    "        '''\n",
    "        criterion = random.uniform(0, 1.0)\n",
    "        if criterion < 1-self.eps:\n",
    "            Q_table_idx = list(self.state.keys())[list(self.state.values()).index(current_postion)]\n",
    "            selected_action = self.action[np.argmax(self.Q_table[Q_table_idx])]\n",
    "        else:\n",
    "            selected_action = random.choice(available_actions)         \n",
    "        ''' \n",
    "        selected_action = random.choice(available_actions)         \n",
    "        return selected_action\n",
    "\n",
    "    def random_policy(self, current_postion):\n",
    "        available_actions,_ = self.check_available_actions(current_postion)\n",
    "        selected_action = random.choice(available_actions)     \n",
    "        return selected_action\n",
    "\n",
    "    def move(self, selected_action, current_position):\n",
    "        if selected_action == 'left':\n",
    "            current_position[0] -= 1\n",
    "        elif selected_action == 'right':\n",
    "            current_position[0] += 1\n",
    "        elif selected_action == 'up':\n",
    "            current_position[1] -= 1\n",
    "        elif selected_action  == 'down':\n",
    "            current_position[1] += 1\n",
    "        else:\n",
    "            pass\n",
    "        return current_position\n",
    "        \n",
    "    def check_reward(self):\n",
    "        pos_robber = self.current_pos[0:2] \n",
    "        pos_police = self.current_pos[2:4]\n",
    "        if pos_robber == pos_police:\n",
    "            rwd = -10\n",
    "        elif pos_robber == [1,1]:\n",
    "            rwd = 1\n",
    "        else :\n",
    "            rwd = 0\n",
    "        return rwd\n",
    "    \n",
    "    def Q_learning(self):\n",
    "        #Todo: Q learning study and code it !!!!!!!!\n",
    "        reward = 0\n",
    "        still_idx = self.action.index('still')\n",
    "        down_idx = self.action.index('down')\n",
    "        right_idx = self.action.index('right')\n",
    "        init_pos_idx = list(self.state.keys())[list(self.state.values()).index(self.init_pos)]\n",
    "        for i in range(10000000):\n",
    "            robber_action = self.behavior_policy(self.current_pos)\n",
    "            police_action = self.random_policy(self.current_pos[2:4])\n",
    "            old_state = self.current_pos.copy()\n",
    "            self.current_pos[0:2] = self.move(robber_action, self.current_pos[0:2])\n",
    "            self.current_pos[2:4] = self.move(police_action, self.current_pos[2:4])\n",
    "            reward = self.check_reward()\n",
    "            old_state_idx = list(self.state.keys())[list(self.state.values()).index(old_state)]\n",
    "            new_state_idx = list(self.state.keys())[list(self.state.values()).index(self.current_pos)]\n",
    "            robber_action_idx = self.action.index(robber_action)\n",
    "            self.cnt_updates[old_state_idx, robber_action_idx] += 1\n",
    "            alpha = 1/(self.cnt_updates[old_state_idx, robber_action_idx])**(2/3) \n",
    "            self.Q_table[old_state_idx, robber_action_idx] += alpha*(reward + self.discount*np.max(self.Q_table[new_state_idx,:])- self.Q_table[old_state_idx, robber_action_idx]) \n",
    "            if old_state == self.init_pos and robber_action == 'still':\n",
    "                self.stay_still.append(self.Q_table[init_pos_idx, still_idx])\n",
    "            elif old_state == self.init_pos and robber_action == 'down':\n",
    "                self.go_down.append(self.Q_table[init_pos_idx, down_idx])\n",
    "            elif old_state == self.init_pos and robber_action == 'right':\n",
    "                self.go_right.append(self.Q_table[init_pos_idx, right_idx])\n",
    "\n"
   ]
  },
  {
   "cell_type": "code",
   "execution_count": 401,
   "metadata": {},
   "outputs": [],
   "source": [
    "initial_pos = [0,0,3,3]\n",
    "maze =  np.array([[0,0,0,0],\n",
    "                 [0,1,0,0],\n",
    "                 [0,0,0,0],\n",
    "                 [0,0,0,0]])\n",
    "rob_bank = Bank_Rob(0.1, 0.8, maze, initial_pos)"
   ]
  },
  {
   "cell_type": "code",
   "execution_count": 403,
   "metadata": {},
   "outputs": [],
   "source": [
    "rob_bank.Q_learning()"
   ]
  },
  {
   "cell_type": "code",
   "execution_count": 423,
   "metadata": {},
   "outputs": [
    {
     "data": {
      "image/png": "[encoded data removed]",
      "text/plain": [
       "<Figure size 1152x288 with 3 Axes>"
      ]
     },
     "metadata": {
      "needs_background": "light"
     },
     "output_type": "display_data"
    }
   ],
   "source": [
    "plt.figure(figsize=(16,4))\n",
    "plt.subplot(1,3,1)\n",
    "plt.plot(rob_bank.stay_still,'r')\n",
    "plt.ylim(0, 4)\n",
    "plt.ylabel('reward of stay still')\n",
    "plt.subplot(1,3,2)\n",
    "plt.plot(rob_bank.go_right,'g')\n",
    "plt.ylim(0, 4)\n",
    "plt.ylabel('rewards of right')\n",
    "plt.subplot(1,3,3)\n",
    "plt.plot(rob_bank.go_down,'b')\n",
    "plt.ylim(0, 4)\n",
    "plt.ylabel('rewards of down')\n",
    "plt.show()"
   ]
  },
  {
   "cell_type": "code",
   "execution_count": null,
   "metadata": {},
   "outputs": [],
   "source": []
  }
 ],
 "metadata": {
  "@webio": {
   "lastCommId": null,
   "lastKernelId": null
  },
  "kernelspec": {
   "display_name": "Python 3",
   "language": "python",
   "name": "python3"
  },
  "language_info": {
   "codemirror_mode": {
    "name": "ipython",
    "version": 3
   },
   "file_extension": ".py",
   "mimetype": "text/x-python",
   "name": "python",
   "nbconvert_exporter": "python",
   "pygments_lexer": "ipython3",
   "version": "3.7.4"
  }
 },
 "nbformat": 4,
 "nbformat_minor": 2
}
