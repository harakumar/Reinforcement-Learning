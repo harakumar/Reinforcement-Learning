{
 "cells": [
  {
   "cell_type": "markdown",
   "metadata": {},
   "source": [
    "# Lab 1\n",
    "Hara Kumar (19940905-3676)\n",
    "Yeongwoo Kim (19890909-7753)"
   ]
  },
  {
   "cell_type": "code",
   "execution_count": 1,
   "metadata": {},
   "outputs": [],
   "source": [
    "import numpy as np\n",
    "import maze as mz \n",
    "import pandas as pd\n",
    "import matplotlib.pyplot as plt\n",
    "from bisect import bisect_right\n",
    "from random import random"
   ]
  },
  {
   "cell_type": "markdown",
   "metadata": {},
   "source": [
    "# Problem 1: The Maze and the Random Minotaur\n",
    "\n",
    "The objective is to escape the maze before time T and without getting caught by the minotaur. We start first by describing the maze as a numpy array. "
   ]
  },
  {
   "cell_type": "code",
   "execution_count": 2,
   "metadata": {},
   "outputs": [],
   "source": [
    "# Description of the maze as a numpy array\n",
    "maze = np.array([\n",
    "    [0, 0, 1, 0, 0, 0, 0, 0],\n",
    "    [0, 0, 1, 0, 0, 1, 0, 0],\n",
    "    [0, 0, 1, 0, 0, 1, 1, 1],\n",
    "    [0, 0, 1, 0, 0, 1, 0, 0],\n",
    "    [0, 0, 0, 0, 0, 0, 0, 0],\n",
    "    [0, 1, 1, 1, 1, 1, 1, 0],\n",
    "    [0, 0, 0, 0, 1, 2, 0, 0]\n",
    "])\n",
    "# with the convention \n",
    "# 0 = empty cell\n",
    "# 1 = obstacle\n",
    "# 2 = exit of the Maze"
   ]
  },
  {
   "cell_type": "markdown",
   "metadata": {},
   "source": [
    "The method `maze.draw_maze()` helps us draw the maze given its numpy array discription.  "
   ]
  },
  {
   "cell_type": "code",
   "execution_count": 3,
   "metadata": {},
   "outputs": [
    {
     "data": {
      "image/png": "[encoded data removed]",
      "text/plain": [
       "<Figure size 576x504 with 1 Axes>"
      ]
     },
     "metadata": {},
     "output_type": "display_data"
    }
   ],
   "source": [
    "mz.draw_maze(maze)"
   ]
  },
  {
   "cell_type": "markdown",
   "metadata": {},
   "source": [
    "## MDP formulation\n",
    "\n",
    "We propose the following MDP formulation: \n",
    "\n",
    "#### State space $\\mathcal{S}$\n",
    "We model the state space as the set of all possible positions of the player and the minotaur in the maze. Note that we exclude states where the player is on an obstacles' position since this is an impossible state. We do, however, permit the player to be in the same position as the minotaur, as this possible (the reward for this state will reflect the fact that this is an undesirable state.\n",
    "\n",
    "$$\\mathcal{S} = \\big\\lbrace (eaten, escaped) \\cup (i_a,j_a,i_m,j_m):\\textrm{such that } 0<=i<=6,\\ 0<=j_a<=7,\\ (i'_m,j'_m) \\neq (i'_a,j'_a),\\ \\textrm{and} \\\\ (i_a,j_a) \\notin obstacles, exit \\big\\rbrace.$$\n",
    "> **Note:** $\\mathcal i_a \\textrm{ and } j_a$ represents the position of the agent. $\\mathcal i_m \\textrm{ and } j_m$ represents the position of the minotaur. The top left corner is position is $(0,0)$ and the bottom right is $(6,7)$.\n",
    "\n",
    "#### Action space $\\mathcal{A}$\n",
    "If the agent is in the state `eaten` or `escaped` then the only action available is `stay`. Otherwise, we allow the player to chose to either move `left`, `right`, `down`, `up` or not move at all (`stay`).\n",
    "Formally, the action space when not in state `eaten` or `escaped` is\n",
    "\n",
    "$$\\mathcal{A} = \\lbrace \\textrm{up, down, left, right, stay}\\rbrace.$$\n",
    "\n",
    "#### Transition probabilities $\\mathcal{P}$\n",
    "There is no randomness involving the movement of the agent. However, there is randomness involving the movement of the minotaur. As our statespace consits of both the minotaur and the agent, there are up to four possible states for each agent action, as described by the following equations. \n",
    "- If the minotaur is not at an edge or a corner, it can move in all four cardinal directions.  \n",
    "$$ (i'_m,j'_m) = \\begin{cases}\n",
    "            (i_m,(j_m + 1)) \\quad \\textrm{ w.p. } 0.25 \\\\\n",
    "            (i_m,(j_m - 1)) \\quad \\textrm{ w.p. } 0.25 \\\\\n",
    "            ((i_m + 1),j_m) \\quad \\textrm{ w.p. } 0.25 \\\\\n",
    "            ((i_m - 1),j_m) \\quad \\textrm{ w.p. } 0.25\n",
    "            \\end{cases} \n",
    "     $$\n",
    "- If the minotaur is at an edge, it can move in 3 possible directions.       \n",
    "$$ (i'_m,j'_m) = \\begin{cases}\n",
    "            (i_m,(j_m + 1)) \\quad \\textrm{ w.p. } 0.33 \\textrm{ if in } \\mathcal{S} \\textrm{ else } 0\\\\\n",
    "            (i_m,(j_m - 1)) \\quad \\textrm{ w.p. } 0.33 \\textrm{ if in } \\mathcal{S} \\textrm{ else } 0\\\\\n",
    "            ((i_m + 1),j_m) \\quad \\textrm{ w.p. } 0.33 \\textrm{ if in } \\mathcal{S} \\textrm{ else } 0\\\\\n",
    "            ((i_m - 1),j_m) \\quad \\textrm{ w.p. } 0.33 \\textrm{ if in } \\mathcal{S} \\textrm{ else } 0\n",
    "            \\end{cases} \n",
    "     $$\n",
    "- If the minotaur is at a corner, it can move in 2 possible directions.       \n",
    "$$ (i'_m,j'_m) = \\begin{cases}\n",
    "            (i_m,(j_m + 1)) \\quad \\textrm{ w.p. } 0.5 \\textrm{ if in } \\mathcal{S} \\textrm{ else } 0\\\\\n",
    "            (i_m,(j_m - 1)) \\quad \\textrm{ w.p. } 0.5 \\textrm{ if in } \\mathcal{S} \\textrm{ else } 0\\\\\n",
    "            ((i_m + 1),j_m) \\quad \\textrm{ w.p. } 0.5 \\textrm{ if in } \\mathcal{S} \\textrm{ else } 0\\\\\n",
    "            ((i_m - 1),j_m) \\quad \\textrm{ w.p. } 0.5 \\textrm{ if in } \\mathcal{S} \\textrm{ else } 0\n",
    "            \\end{cases} \n",
    "     $$\n",
    "- After $(i'_m,j'_m)$ is calculated using the above probabilities, they are compared with $(i'_a,j'_a)$. If $(i'_m,j'_m) = (i'_a,j'_a)$, then the new state is $(eaten)$. If not in state `eaten`, then check if $(i'_a,j'_a) = (0,5)$, then the new state is `escaped`. \n",
    "\n",
    "> **Note**: If the agent makes an action that results in it running into a wall or obstacle, it will not move. Note also that the action space only makes the action `stay` available when in state `eaten` or `escaped`. The minotaur must move and can ignore obstacles (but can not exit the playing field, this is defined in the state space).\n",
    "\n",
    "#### Rewards $\\mathcal{R}$\n",
    "For any state and action, the reward r(s,a) is the average value of all possible future states. The value of the future state `escaped` is 1. The value of all other future states, including `eaten` is 0.\n",
    "\n",
    "> **Note**: Here the rewards are independent of time (i.e. $r_t(.,.) = r(.,.)$). \n",
    "\n",
    "\n",
    "### Implementation\n",
    "The above MDP formulation is implemented as a class ``maze.Maze`` in the file [maze.py](./maze.py) which given a matrix description of the maze instanciates the state space, action space, transition probabilities and rewards. \n",
    "\n",
    "> **Note:** In the class `maze.Maze` each state $s = (i,j)$ is given a unique identifier $s_{id} \\in \\lbrace 0, , \\dots, \\vert S \\vert -1 \\rbrace$. In other words, the state space from an implementation perspective is viewed as the set of integers $\\lbrace 0, , \\dots, \\vert S \\vert -1 \\rbrace$. This mapping is done via the dictionary `self.map` and its inverse mapping via the dictionary `self.states`.   "
   ]
  },
  {
   "cell_type": "markdown",
   "metadata": {},
   "source": [
    "##  Dynamic Programming \n",
    "\n",
    "Before solving the MDP problem, recall that the finite horizon objective function is \n",
    "$$\n",
    "    \\mathbb{E} \\Big[ \\sum_{t=0}^T r(s_t, a_t) \\Big],\n",
    "$$\n",
    "where $T$ is the horizon.\n",
    "Recall the Bellman equation \n",
    "\\begin{equation}\n",
    "\\forall s \\in \\mathcal{S} \\qquad  V(s) = \\max_{a \\in \\mathcal{A}} \\Big\\lbrace r(s,a) + \\sum_{s' \\in \\mathcal{S}} \\mathbb{P}(s'\\vert s,a) V(s') \\Big\\rbrace\n",
    "\\end{equation}\n",
    "The dynamic programming solution for the finite horizon MDP problem consists of solving the above backward recursion. The method `maze.dynamic_programming` achieves this. "
   ]
  },
  {
   "cell_type": "code",
   "execution_count": 4,
   "metadata": {},
   "outputs": [],
   "source": [
    "# Create an environment maze\n",
    "env = mz.Maze(maze)\n",
    "env2 = mz.Maze(maze, minotaur_stand_ground=True)\n",
    "\n",
    "# Finite horizon\n",
    "horizon = 20\n",
    "\n",
    "# Solve the MDP problem with dynamic programming \n",
    "V, policy = mz.dynamic_programming(env,horizon);\n",
    "V2, policy2 = mz.dynamic_programming(env2,horizon);"
   ]
  },
  {
   "cell_type": "code",
   "execution_count": 5,
   "metadata": {},
   "outputs": [],
   "source": [
    "# Run one round of simulation\n",
    "method = 'DynProg';\n",
    "start  = (0,0,6,5);\n",
    "path = env.simulate(start, policy, method);"
   ]
  },
  {
   "cell_type": "code",
   "execution_count": 6,
   "metadata": {},
   "outputs": [
    {
     "data": {
      "image/png": "[encoded data removed]",
      "text/plain": [
       "<Figure size 576x504 with 1 Axes>"
      ]
     },
     "metadata": {},
     "output_type": "display_data"
    }
   ],
   "source": [
    "# Show the learned path when the minotaur must move\n",
    "mz.animate_solution(maze, path)"
   ]
  },
  {
   "cell_type": "code",
   "execution_count": 9,
   "metadata": {},
   "outputs": [
    {
     "data": {
      "text/plain": [
       "<matplotlib.legend.Legend at 0x254ee85d128>"
      ]
     },
     "execution_count": 9,
     "metadata": {},
     "output_type": "execute_result"
    },
    {
     "data": {
      "image/png": "[encoded data removed]",
      "text/plain": [
       "<Figure size 720x360 with 1 Axes>"
      ]
     },
     "metadata": {
      "needs_background": "light"
     },
     "output_type": "display_data"
    }
   ],
   "source": [
    "probability_success = [V[(env.map[start],T)] for T in range(horizon, -1, -1)]\n",
    "probability_success2 = [V2[(env.map[start],T)] for T in range(horizon, -1, -1)]\n",
    "plt.figure(figsize=(10,5))\n",
    "plt.xticks(range(horizon+1))\n",
    "plt.plot(range(horizon+1), probability_success, label='minotaur must move')\n",
    "plt.plot(range(horizon+1), probability_success2, label='minotaur can stay')\n",
    "plt.title('Probability of Escaping Maze')\n",
    "plt.legend()"
   ]
  },
  {
   "cell_type": "markdown",
   "metadata": {},
   "source": [
    "When the minotaur is allowed to stand still, it can stay on the exit or block the players path forever. This why the probability of escaping the maze is much higher when the minotaur is required to move."
   ]
  },
  {
   "cell_type": "markdown",
   "metadata": {},
   "source": [
    "## Value Iteration\n",
    "\n",
    "Here we solve the discounted infinite-horizon MDP problem using value iteration, the objective here is to find a stationary policy $\\pi$ that minimizes the infinite horizon objective with a discount factor $\\gamma$ \n",
    "$$\n",
    "    \\mathbb{E} \\Big[\\sum_{t=0}^\\infty \\gamma^t r\\big(s_t, \\pi(s_t)\\big) \\Big].\n",
    "$$\n",
    "Recall the Bellman equation in the case of a stationary policy $\\pi$ \n",
    "\\begin{equation}\n",
    "\\forall s \\in \\mathcal{S} \\qquad  V^*(s) = \\max_{\\pi} \\Big\\lbrace r(s,\\pi(s)) + \\gamma \\sum_{s' \\in \\mathcal{S}} \\mathbb{P}(s'\\vert s,\\pi(s)) V^*(s') \\Big\\rbrace\n",
    "\\end{equation}\n",
    "or equivalently in terms of the Bellman operator $\\mathcal{L}$ \n",
    "\\begin{equation}\n",
    "V^* =  \\mathcal{L}(V^*)\n",
    "\\end{equation}\n",
    "where \n",
    "\\begin{equation}\n",
    "   \\forall s \\in \\mathcal{S} \\qquad  \\mathcal{L}(V)(s) = \\max_{\\pi} \\Big\\lbrace r(s,\\pi(s)) + \\gamma \\sum_{s' \\in \\mathcal{S}} \\mathbb{P}(s'\\vert s,\\pi(s)) V(s') \\Big\\rbrace. \n",
    "\\end{equation}\n",
    "Value iteration solves the Bellman equation described above. This method is implemented as `maze.value_iteration` in the file [maze.py]().\n",
    "\n",
    "> **Note:** Recall that the mapping $\\mathcal{L}$ is a contraction, therefore value iteration converges. To achieve an $\\varepsilon>0$ approximation (i.e. $\\Vert V^* - V_{n+1} \\Vert \\le \\varepsilon$),\n",
    " the stopping criterion of value iteration is $\\Vert V - \\mathcal{L}(V) \\Vert < \\frac{1-\\gamma}{\\gamma}\\varepsilon$.\n",
    " \n",
    "For this specific problem, $\\gamma = 0.967$ because we are interpreting gamma as representing the random time horizon. Per the definition of the problem, the expected value of this time horizon is 30, and $1/(1-0.967) = 30$."
   ]
  },
  {
   "cell_type": "code",
   "execution_count": 3,
   "metadata": {},
   "outputs": [],
   "source": [
    "# Create New env for Value Iteration\n",
    "env3 = mz.Maze(maze)\n",
    "\n",
    "# Discount Factor \n",
    "gamma   = 0.967; \n",
    "# Accuracy treshold \n",
    "epsilon = 0.0001;\n",
    "V3, policy3 = mz.value_iteration(env3, gamma, epsilon)"
   ]
  },
  {
   "cell_type": "code",
   "execution_count": 4,
   "metadata": {},
   "outputs": [
    {
     "data": {
      "image/png": "[encoded data removed]",
      "text/plain": [
       "<Figure size 576x504 with 1 Axes>"
      ]
     },
     "metadata": {},
     "output_type": "display_data"
    }
   ],
   "source": [
    "# Run one round of simulation\n",
    "method3 = 'ValIter';\n",
    "start3  = (0,0,6,5);\n",
    "path3 = env3.simulate(start3, policy3, method3)\n",
    "mz.animate_solution(maze, path3)"
   ]
  },
  {
   "cell_type": "code",
   "execution_count": 39,
   "metadata": {},
   "outputs": [],
   "source": [
    "# Create a list showing cumulative distribution of game length based on gamma, with the index being the game length\n",
    "cdd = []\n",
    "length_of_game = 0\n",
    "most_recent_cdd = 0\n",
    "while most_recent_cdd < 0.999:\n",
    "    most_recent_cdd = most_recent_cdd + (1 - gamma)*(gamma**length_of_game)\n",
    "    cdd.append(most_recent_cdd)\n",
    "    length_of_game = length_of_game + 1\n",
    "    \n",
    "# Create a function that returns the length of the game at random based on a cumulative distribution\n",
    "class game_time:\n",
    "    \n",
    "    def __init__(self, cdd):\n",
    "        self.cdd = cdd\n",
    "    \n",
    "    def random(self):\n",
    "        random_double = random()\n",
    "        pos = bisect_right(self.cdd, random_double)\n",
    "        if pos == len(self.cdd):\n",
    "            return pos - 1\n",
    "        before = self.cdd[pos]\n",
    "        after = self.cdd[pos + 1]\n",
    "        if after - random_double < random_double - before:\n",
    "            return pos + 1 #after\n",
    "        else:\n",
    "            return pos #before\n",
    "\n",
    "game = game_time(cdd)"
   ]
  },
  {
   "cell_type": "code",
   "execution_count": 40,
   "metadata": {},
   "outputs": [],
   "source": [
    "#Simulating 10,000 games to estimate probability of survival based on this policy\n",
    "survival = []\n",
    "length_of_games = []\n",
    "for i in range (10000):\n",
    "    length_of_games.append(game.random()) \n",
    "    if length_of_games[i] < 15:\n",
    "        survival.append(False) #If game is shorter than 15 rounds, then there is no hope of escape\n",
    "    else:\n",
    "        path_of_this_game = env3.simulate(start3, policy3, method3)\n",
    "        if length_of_games[i] < len(path_of_this_game): #game ran for too long\n",
    "            survival.append(False)\n",
    "        else:\n",
    "            last_state = path_of_this_game[-1]\n",
    "            if last_state[0] == last_state[2] and last_state[1] == last_state[3]: #player is eaten\n",
    "                survival.append(False)\n",
    "            else:\n",
    "                survival.append(True)"
   ]
  },
  {
   "cell_type": "code",
   "execution_count": 41,
   "metadata": {},
   "outputs": [
    {
     "data": {
      "text/plain": [
       "0.5823"
      ]
     },
     "execution_count": 41,
     "metadata": {},
     "output_type": "execute_result"
    }
   ],
   "source": [
    "#Probability of Survival\n",
    "survival.count(True)/len(survival)"
   ]
  }
 ],
 "metadata": {
  "@webio": {
   "lastCommId": null,
   "lastKernelId": null
  },
  "kernelspec": {
   "display_name": "Python 3",
   "language": "python",
   "name": "python3"
  },
  "language_info": {
   "codemirror_mode": {
    "name": "ipython",
    "version": 3
   },
   "file_extension": ".py",
   "mimetype": "text/x-python",
   "name": "python",
   "nbconvert_exporter": "python",
   "pygments_lexer": "ipython3",
   "version": "3.6.8"
  }
 },
 "nbformat": 4,
 "nbformat_minor": 2
}
